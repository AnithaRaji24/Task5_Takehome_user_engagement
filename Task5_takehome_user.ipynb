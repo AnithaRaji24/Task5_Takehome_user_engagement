{
  "nbformat": 4,
  "nbformat_minor": 0,
  "metadata": {
    "colab": {
      "provenance": []
    },
    "kernelspec": {
      "name": "python3",
      "display_name": "Python 3"
    },
    "language_info": {
      "name": "python"
    }
  },
  "cells": [
    {
      "cell_type": "code",
      "source": [
        "import pandas as pd\n",
        "import numpy as np\n",
        "import matplotlib.pyplot as plt\n",
        "%matplotlib inline\n",
        "import seaborn as sns\n",
        "import warnings\n",
        "warnings.filterwarnings('ignore')"
      ],
      "metadata": {
        "id": "e0ebUTAbi2UQ"
      },
      "execution_count": 1,
      "outputs": []
    },
    {
      "cell_type": "code",
      "source": [
        "df1=pd.read_csv(\"/content/takehome_users.csv\",encoding='ISO-8859-1')\n",
        "df1.head()   "
      ],
      "metadata": {
        "colab": {
          "base_uri": "https://localhost:8080/",
          "height": 357
        },
        "id": "XpS7U2Mai2Q-",
        "outputId": "75568276-6bc6-48ee-b97f-1b7dacbc138f"
      },
      "execution_count": 2,
      "outputs": [
        {
          "output_type": "execute_result",
          "data": {
            "text/plain": [
              "   object_id        creation_time               name  \\\n",
              "0          1  2014-04-22 03:53:30     Clausen August   \n",
              "1          2  2013-11-15 03:45:04      Poole Matthew   \n",
              "2          3  2013-03-19 23:14:52  Bottrill Mitchell   \n",
              "3          4  2013-05-21 08:09:28    Clausen Nicklas   \n",
              "4          5  2013-01-17 10:14:20          Raw Grace   \n",
              "\n",
              "                        email creation_source  last_session_creation_time  \\\n",
              "0    AugustCClausen@yahoo.com    GUEST_INVITE                1.398139e+09   \n",
              "1      MatthewPoole@gustr.com      ORG_INVITE                1.396238e+09   \n",
              "2  MitchellBottrill@gustr.com      ORG_INVITE                1.363735e+09   \n",
              "3   NicklasSClausen@yahoo.com    GUEST_INVITE                1.369210e+09   \n",
              "4          GraceRaw@yahoo.com    GUEST_INVITE                1.358850e+09   \n",
              "\n",
              "   opted_in_to_mailing_list  enabled_for_marketing_drip  org_id  \\\n",
              "0                         1                           0      11   \n",
              "1                         0                           0       1   \n",
              "2                         0                           0      94   \n",
              "3                         0                           0       1   \n",
              "4                         0                           0     193   \n",
              "\n",
              "   invited_by_user_id  \n",
              "0             10803.0  \n",
              "1               316.0  \n",
              "2              1525.0  \n",
              "3              5151.0  \n",
              "4              5240.0  "
            ],
            "text/html": [
              "\n",
              "  <div id=\"df-470143e2-b740-4b62-a068-5d0466e10537\">\n",
              "    <div class=\"colab-df-container\">\n",
              "      <div>\n",
              "<style scoped>\n",
              "    .dataframe tbody tr th:only-of-type {\n",
              "        vertical-align: middle;\n",
              "    }\n",
              "\n",
              "    .dataframe tbody tr th {\n",
              "        vertical-align: top;\n",
              "    }\n",
              "\n",
              "    .dataframe thead th {\n",
              "        text-align: right;\n",
              "    }\n",
              "</style>\n",
              "<table border=\"1\" class=\"dataframe\">\n",
              "  <thead>\n",
              "    <tr style=\"text-align: right;\">\n",
              "      <th></th>\n",
              "      <th>object_id</th>\n",
              "      <th>creation_time</th>\n",
              "      <th>name</th>\n",
              "      <th>email</th>\n",
              "      <th>creation_source</th>\n",
              "      <th>last_session_creation_time</th>\n",
              "      <th>opted_in_to_mailing_list</th>\n",
              "      <th>enabled_for_marketing_drip</th>\n",
              "      <th>org_id</th>\n",
              "      <th>invited_by_user_id</th>\n",
              "    </tr>\n",
              "  </thead>\n",
              "  <tbody>\n",
              "    <tr>\n",
              "      <th>0</th>\n",
              "      <td>1</td>\n",
              "      <td>2014-04-22 03:53:30</td>\n",
              "      <td>Clausen August</td>\n",
              "      <td>AugustCClausen@yahoo.com</td>\n",
              "      <td>GUEST_INVITE</td>\n",
              "      <td>1.398139e+09</td>\n",
              "      <td>1</td>\n",
              "      <td>0</td>\n",
              "      <td>11</td>\n",
              "      <td>10803.0</td>\n",
              "    </tr>\n",
              "    <tr>\n",
              "      <th>1</th>\n",
              "      <td>2</td>\n",
              "      <td>2013-11-15 03:45:04</td>\n",
              "      <td>Poole Matthew</td>\n",
              "      <td>MatthewPoole@gustr.com</td>\n",
              "      <td>ORG_INVITE</td>\n",
              "      <td>1.396238e+09</td>\n",
              "      <td>0</td>\n",
              "      <td>0</td>\n",
              "      <td>1</td>\n",
              "      <td>316.0</td>\n",
              "    </tr>\n",
              "    <tr>\n",
              "      <th>2</th>\n",
              "      <td>3</td>\n",
              "      <td>2013-03-19 23:14:52</td>\n",
              "      <td>Bottrill Mitchell</td>\n",
              "      <td>MitchellBottrill@gustr.com</td>\n",
              "      <td>ORG_INVITE</td>\n",
              "      <td>1.363735e+09</td>\n",
              "      <td>0</td>\n",
              "      <td>0</td>\n",
              "      <td>94</td>\n",
              "      <td>1525.0</td>\n",
              "    </tr>\n",
              "    <tr>\n",
              "      <th>3</th>\n",
              "      <td>4</td>\n",
              "      <td>2013-05-21 08:09:28</td>\n",
              "      <td>Clausen Nicklas</td>\n",
              "      <td>NicklasSClausen@yahoo.com</td>\n",
              "      <td>GUEST_INVITE</td>\n",
              "      <td>1.369210e+09</td>\n",
              "      <td>0</td>\n",
              "      <td>0</td>\n",
              "      <td>1</td>\n",
              "      <td>5151.0</td>\n",
              "    </tr>\n",
              "    <tr>\n",
              "      <th>4</th>\n",
              "      <td>5</td>\n",
              "      <td>2013-01-17 10:14:20</td>\n",
              "      <td>Raw Grace</td>\n",
              "      <td>GraceRaw@yahoo.com</td>\n",
              "      <td>GUEST_INVITE</td>\n",
              "      <td>1.358850e+09</td>\n",
              "      <td>0</td>\n",
              "      <td>0</td>\n",
              "      <td>193</td>\n",
              "      <td>5240.0</td>\n",
              "    </tr>\n",
              "  </tbody>\n",
              "</table>\n",
              "</div>\n",
              "      <button class=\"colab-df-convert\" onclick=\"convertToInteractive('df-470143e2-b740-4b62-a068-5d0466e10537')\"\n",
              "              title=\"Convert this dataframe to an interactive table.\"\n",
              "              style=\"display:none;\">\n",
              "        \n",
              "  <svg xmlns=\"http://www.w3.org/2000/svg\" height=\"24px\"viewBox=\"0 0 24 24\"\n",
              "       width=\"24px\">\n",
              "    <path d=\"M0 0h24v24H0V0z\" fill=\"none\"/>\n",
              "    <path d=\"M18.56 5.44l.94 2.06.94-2.06 2.06-.94-2.06-.94-.94-2.06-.94 2.06-2.06.94zm-11 1L8.5 8.5l.94-2.06 2.06-.94-2.06-.94L8.5 2.5l-.94 2.06-2.06.94zm10 10l.94 2.06.94-2.06 2.06-.94-2.06-.94-.94-2.06-.94 2.06-2.06.94z\"/><path d=\"M17.41 7.96l-1.37-1.37c-.4-.4-.92-.59-1.43-.59-.52 0-1.04.2-1.43.59L10.3 9.45l-7.72 7.72c-.78.78-.78 2.05 0 2.83L4 21.41c.39.39.9.59 1.41.59.51 0 1.02-.2 1.41-.59l7.78-7.78 2.81-2.81c.8-.78.8-2.07 0-2.86zM5.41 20L4 18.59l7.72-7.72 1.47 1.35L5.41 20z\"/>\n",
              "  </svg>\n",
              "      </button>\n",
              "      \n",
              "  <style>\n",
              "    .colab-df-container {\n",
              "      display:flex;\n",
              "      flex-wrap:wrap;\n",
              "      gap: 12px;\n",
              "    }\n",
              "\n",
              "    .colab-df-convert {\n",
              "      background-color: #E8F0FE;\n",
              "      border: none;\n",
              "      border-radius: 50%;\n",
              "      cursor: pointer;\n",
              "      display: none;\n",
              "      fill: #1967D2;\n",
              "      height: 32px;\n",
              "      padding: 0 0 0 0;\n",
              "      width: 32px;\n",
              "    }\n",
              "\n",
              "    .colab-df-convert:hover {\n",
              "      background-color: #E2EBFA;\n",
              "      box-shadow: 0px 1px 2px rgba(60, 64, 67, 0.3), 0px 1px 3px 1px rgba(60, 64, 67, 0.15);\n",
              "      fill: #174EA6;\n",
              "    }\n",
              "\n",
              "    [theme=dark] .colab-df-convert {\n",
              "      background-color: #3B4455;\n",
              "      fill: #D2E3FC;\n",
              "    }\n",
              "\n",
              "    [theme=dark] .colab-df-convert:hover {\n",
              "      background-color: #434B5C;\n",
              "      box-shadow: 0px 1px 3px 1px rgba(0, 0, 0, 0.15);\n",
              "      filter: drop-shadow(0px 1px 2px rgba(0, 0, 0, 0.3));\n",
              "      fill: #FFFFFF;\n",
              "    }\n",
              "  </style>\n",
              "\n",
              "      <script>\n",
              "        const buttonEl =\n",
              "          document.querySelector('#df-470143e2-b740-4b62-a068-5d0466e10537 button.colab-df-convert');\n",
              "        buttonEl.style.display =\n",
              "          google.colab.kernel.accessAllowed ? 'block' : 'none';\n",
              "\n",
              "        async function convertToInteractive(key) {\n",
              "          const element = document.querySelector('#df-470143e2-b740-4b62-a068-5d0466e10537');\n",
              "          const dataTable =\n",
              "            await google.colab.kernel.invokeFunction('convertToInteractive',\n",
              "                                                     [key], {});\n",
              "          if (!dataTable) return;\n",
              "\n",
              "          const docLinkHtml = 'Like what you see? Visit the ' +\n",
              "            '<a target=\"_blank\" href=https://colab.research.google.com/notebooks/data_table.ipynb>data table notebook</a>'\n",
              "            + ' to learn more about interactive tables.';\n",
              "          element.innerHTML = '';\n",
              "          dataTable['output_type'] = 'display_data';\n",
              "          await google.colab.output.renderOutput(dataTable, element);\n",
              "          const docLink = document.createElement('div');\n",
              "          docLink.innerHTML = docLinkHtml;\n",
              "          element.appendChild(docLink);\n",
              "        }\n",
              "      </script>\n",
              "    </div>\n",
              "  </div>\n",
              "  "
            ]
          },
          "metadata": {},
          "execution_count": 2
        }
      ]
    },
    {
      "cell_type": "code",
      "source": [
        "df1.shape"
      ],
      "metadata": {
        "id": "oI9ANByei2N7"
      },
      "execution_count": null,
      "outputs": []
    },
    {
      "cell_type": "code",
      "source": [
        "df2=pd.read_csv(\"/content/takehome_user_engagement.csv\")\n",
        "df2.head()\n",
        "     "
      ],
      "metadata": {
        "colab": {
          "base_uri": "https://localhost:8080/",
          "height": 206
        },
        "id": "weKtNm8ii2Kp",
        "outputId": "372251cd-62e9-48b2-ffd5-a4bf499f5a96"
      },
      "execution_count": 4,
      "outputs": [
        {
          "output_type": "execute_result",
          "data": {
            "text/plain": [
              "            time_stamp  user_id  visited\n",
              "0  2014-04-22 03:53:30        1        1\n",
              "1  2013-11-15 03:45:04        2        1\n",
              "2  2013-11-29 03:45:04        2        1\n",
              "3  2013-12-09 03:45:04        2        1\n",
              "4  2013-12-25 03:45:04        2        1"
            ],
            "text/html": [
              "\n",
              "  <div id=\"df-efaa22fc-78b5-4311-8177-a1ce9a14c208\">\n",
              "    <div class=\"colab-df-container\">\n",
              "      <div>\n",
              "<style scoped>\n",
              "    .dataframe tbody tr th:only-of-type {\n",
              "        vertical-align: middle;\n",
              "    }\n",
              "\n",
              "    .dataframe tbody tr th {\n",
              "        vertical-align: top;\n",
              "    }\n",
              "\n",
              "    .dataframe thead th {\n",
              "        text-align: right;\n",
              "    }\n",
              "</style>\n",
              "<table border=\"1\" class=\"dataframe\">\n",
              "  <thead>\n",
              "    <tr style=\"text-align: right;\">\n",
              "      <th></th>\n",
              "      <th>time_stamp</th>\n",
              "      <th>user_id</th>\n",
              "      <th>visited</th>\n",
              "    </tr>\n",
              "  </thead>\n",
              "  <tbody>\n",
              "    <tr>\n",
              "      <th>0</th>\n",
              "      <td>2014-04-22 03:53:30</td>\n",
              "      <td>1</td>\n",
              "      <td>1</td>\n",
              "    </tr>\n",
              "    <tr>\n",
              "      <th>1</th>\n",
              "      <td>2013-11-15 03:45:04</td>\n",
              "      <td>2</td>\n",
              "      <td>1</td>\n",
              "    </tr>\n",
              "    <tr>\n",
              "      <th>2</th>\n",
              "      <td>2013-11-29 03:45:04</td>\n",
              "      <td>2</td>\n",
              "      <td>1</td>\n",
              "    </tr>\n",
              "    <tr>\n",
              "      <th>3</th>\n",
              "      <td>2013-12-09 03:45:04</td>\n",
              "      <td>2</td>\n",
              "      <td>1</td>\n",
              "    </tr>\n",
              "    <tr>\n",
              "      <th>4</th>\n",
              "      <td>2013-12-25 03:45:04</td>\n",
              "      <td>2</td>\n",
              "      <td>1</td>\n",
              "    </tr>\n",
              "  </tbody>\n",
              "</table>\n",
              "</div>\n",
              "      <button class=\"colab-df-convert\" onclick=\"convertToInteractive('df-efaa22fc-78b5-4311-8177-a1ce9a14c208')\"\n",
              "              title=\"Convert this dataframe to an interactive table.\"\n",
              "              style=\"display:none;\">\n",
              "        \n",
              "  <svg xmlns=\"http://www.w3.org/2000/svg\" height=\"24px\"viewBox=\"0 0 24 24\"\n",
              "       width=\"24px\">\n",
              "    <path d=\"M0 0h24v24H0V0z\" fill=\"none\"/>\n",
              "    <path d=\"M18.56 5.44l.94 2.06.94-2.06 2.06-.94-2.06-.94-.94-2.06-.94 2.06-2.06.94zm-11 1L8.5 8.5l.94-2.06 2.06-.94-2.06-.94L8.5 2.5l-.94 2.06-2.06.94zm10 10l.94 2.06.94-2.06 2.06-.94-2.06-.94-.94-2.06-.94 2.06-2.06.94z\"/><path d=\"M17.41 7.96l-1.37-1.37c-.4-.4-.92-.59-1.43-.59-.52 0-1.04.2-1.43.59L10.3 9.45l-7.72 7.72c-.78.78-.78 2.05 0 2.83L4 21.41c.39.39.9.59 1.41.59.51 0 1.02-.2 1.41-.59l7.78-7.78 2.81-2.81c.8-.78.8-2.07 0-2.86zM5.41 20L4 18.59l7.72-7.72 1.47 1.35L5.41 20z\"/>\n",
              "  </svg>\n",
              "      </button>\n",
              "      \n",
              "  <style>\n",
              "    .colab-df-container {\n",
              "      display:flex;\n",
              "      flex-wrap:wrap;\n",
              "      gap: 12px;\n",
              "    }\n",
              "\n",
              "    .colab-df-convert {\n",
              "      background-color: #E8F0FE;\n",
              "      border: none;\n",
              "      border-radius: 50%;\n",
              "      cursor: pointer;\n",
              "      display: none;\n",
              "      fill: #1967D2;\n",
              "      height: 32px;\n",
              "      padding: 0 0 0 0;\n",
              "      width: 32px;\n",
              "    }\n",
              "\n",
              "    .colab-df-convert:hover {\n",
              "      background-color: #E2EBFA;\n",
              "      box-shadow: 0px 1px 2px rgba(60, 64, 67, 0.3), 0px 1px 3px 1px rgba(60, 64, 67, 0.15);\n",
              "      fill: #174EA6;\n",
              "    }\n",
              "\n",
              "    [theme=dark] .colab-df-convert {\n",
              "      background-color: #3B4455;\n",
              "      fill: #D2E3FC;\n",
              "    }\n",
              "\n",
              "    [theme=dark] .colab-df-convert:hover {\n",
              "      background-color: #434B5C;\n",
              "      box-shadow: 0px 1px 3px 1px rgba(0, 0, 0, 0.15);\n",
              "      filter: drop-shadow(0px 1px 2px rgba(0, 0, 0, 0.3));\n",
              "      fill: #FFFFFF;\n",
              "    }\n",
              "  </style>\n",
              "\n",
              "      <script>\n",
              "        const buttonEl =\n",
              "          document.querySelector('#df-efaa22fc-78b5-4311-8177-a1ce9a14c208 button.colab-df-convert');\n",
              "        buttonEl.style.display =\n",
              "          google.colab.kernel.accessAllowed ? 'block' : 'none';\n",
              "\n",
              "        async function convertToInteractive(key) {\n",
              "          const element = document.querySelector('#df-efaa22fc-78b5-4311-8177-a1ce9a14c208');\n",
              "          const dataTable =\n",
              "            await google.colab.kernel.invokeFunction('convertToInteractive',\n",
              "                                                     [key], {});\n",
              "          if (!dataTable) return;\n",
              "\n",
              "          const docLinkHtml = 'Like what you see? Visit the ' +\n",
              "            '<a target=\"_blank\" href=https://colab.research.google.com/notebooks/data_table.ipynb>data table notebook</a>'\n",
              "            + ' to learn more about interactive tables.';\n",
              "          element.innerHTML = '';\n",
              "          dataTable['output_type'] = 'display_data';\n",
              "          await google.colab.output.renderOutput(dataTable, element);\n",
              "          const docLink = document.createElement('div');\n",
              "          docLink.innerHTML = docLinkHtml;\n",
              "          element.appendChild(docLink);\n",
              "        }\n",
              "      </script>\n",
              "    </div>\n",
              "  </div>\n",
              "  "
            ]
          },
          "metadata": {},
          "execution_count": 4
        }
      ]
    },
    {
      "cell_type": "code",
      "source": [
        "df2.shape"
      ],
      "metadata": {
        "colab": {
          "base_uri": "https://localhost:8080/"
        },
        "id": "tkIvUZHTi2HW",
        "outputId": "e3cca71f-7716-44c8-ebb0-d713a0df33b9"
      },
      "execution_count": 5,
      "outputs": [
        {
          "output_type": "execute_result",
          "data": {
            "text/plain": [
              "(207917, 3)"
            ]
          },
          "metadata": {},
          "execution_count": 5
        }
      ]
    },
    {
      "cell_type": "code",
      "source": [
        "df1.rename(columns={'object_id':'user_id'},inplace=True)"
      ],
      "metadata": {
        "id": "bl-L_abai2E4"
      },
      "execution_count": 6,
      "outputs": []
    },
    {
      "cell_type": "code",
      "source": [
        "data= pd.merge(df1,df2,on='user_id',how='right')"
      ],
      "metadata": {
        "id": "ubhD4ri4i2AM"
      },
      "execution_count": 7,
      "outputs": []
    },
    {
      "cell_type": "code",
      "source": [
        "data.columns"
      ],
      "metadata": {
        "colab": {
          "base_uri": "https://localhost:8080/"
        },
        "id": "Yl6hiKCEi19A",
        "outputId": "06b9d0f7-619f-40dd-b4c4-f8c1955d77c9"
      },
      "execution_count": 8,
      "outputs": [
        {
          "output_type": "execute_result",
          "data": {
            "text/plain": [
              "Index(['user_id', 'creation_time', 'name', 'email', 'creation_source',\n",
              "       'last_session_creation_time', 'opted_in_to_mailing_list',\n",
              "       'enabled_for_marketing_drip', 'org_id', 'invited_by_user_id',\n",
              "       'time_stamp', 'visited'],\n",
              "      dtype='object')"
            ]
          },
          "metadata": {},
          "execution_count": 8
        }
      ]
    },
    {
      "cell_type": "code",
      "source": [
        "data['date'] = data['time_stamp'].astype('datetime64')\n",
        "data['week'] = data['date'].dt.isocalendar().week\n",
        "data['year'] = data['date'].dt.isocalendar().year\n",
        "data['month'] =data['date'].dt.month"
      ],
      "metadata": {
        "id": "ttuZrKJ6i16C"
      },
      "execution_count": 9,
      "outputs": []
    },
    {
      "cell_type": "code",
      "source": [
        "data.head(3)"
      ],
      "metadata": {
        "colab": {
          "base_uri": "https://localhost:8080/",
          "height": 311
        },
        "id": "XMhedWFZi13C",
        "outputId": "a25a68fe-051e-4aed-cfa3-2b3159b3ea58"
      },
      "execution_count": 10,
      "outputs": [
        {
          "output_type": "execute_result",
          "data": {
            "text/plain": [
              "   user_id        creation_time            name                     email  \\\n",
              "0        1  2014-04-22 03:53:30  Clausen August  AugustCClausen@yahoo.com   \n",
              "1        2  2013-11-15 03:45:04   Poole Matthew    MatthewPoole@gustr.com   \n",
              "2        2  2013-11-15 03:45:04   Poole Matthew    MatthewPoole@gustr.com   \n",
              "\n",
              "  creation_source  last_session_creation_time  opted_in_to_mailing_list  \\\n",
              "0    GUEST_INVITE                1.398139e+09                         1   \n",
              "1      ORG_INVITE                1.396238e+09                         0   \n",
              "2      ORG_INVITE                1.396238e+09                         0   \n",
              "\n",
              "   enabled_for_marketing_drip  org_id  invited_by_user_id  \\\n",
              "0                           0      11             10803.0   \n",
              "1                           0       1               316.0   \n",
              "2                           0       1               316.0   \n",
              "\n",
              "            time_stamp  visited                date  week  year  month  \n",
              "0  2014-04-22 03:53:30        1 2014-04-22 03:53:30    17  2014      4  \n",
              "1  2013-11-15 03:45:04        1 2013-11-15 03:45:04    46  2013     11  \n",
              "2  2013-11-29 03:45:04        1 2013-11-29 03:45:04    48  2013     11  "
            ],
            "text/html": [
              "\n",
              "  <div id=\"df-b514d93c-e910-44c7-b0c0-ae8980f5ede8\">\n",
              "    <div class=\"colab-df-container\">\n",
              "      <div>\n",
              "<style scoped>\n",
              "    .dataframe tbody tr th:only-of-type {\n",
              "        vertical-align: middle;\n",
              "    }\n",
              "\n",
              "    .dataframe tbody tr th {\n",
              "        vertical-align: top;\n",
              "    }\n",
              "\n",
              "    .dataframe thead th {\n",
              "        text-align: right;\n",
              "    }\n",
              "</style>\n",
              "<table border=\"1\" class=\"dataframe\">\n",
              "  <thead>\n",
              "    <tr style=\"text-align: right;\">\n",
              "      <th></th>\n",
              "      <th>user_id</th>\n",
              "      <th>creation_time</th>\n",
              "      <th>name</th>\n",
              "      <th>email</th>\n",
              "      <th>creation_source</th>\n",
              "      <th>last_session_creation_time</th>\n",
              "      <th>opted_in_to_mailing_list</th>\n",
              "      <th>enabled_for_marketing_drip</th>\n",
              "      <th>org_id</th>\n",
              "      <th>invited_by_user_id</th>\n",
              "      <th>time_stamp</th>\n",
              "      <th>visited</th>\n",
              "      <th>date</th>\n",
              "      <th>week</th>\n",
              "      <th>year</th>\n",
              "      <th>month</th>\n",
              "    </tr>\n",
              "  </thead>\n",
              "  <tbody>\n",
              "    <tr>\n",
              "      <th>0</th>\n",
              "      <td>1</td>\n",
              "      <td>2014-04-22 03:53:30</td>\n",
              "      <td>Clausen August</td>\n",
              "      <td>AugustCClausen@yahoo.com</td>\n",
              "      <td>GUEST_INVITE</td>\n",
              "      <td>1.398139e+09</td>\n",
              "      <td>1</td>\n",
              "      <td>0</td>\n",
              "      <td>11</td>\n",
              "      <td>10803.0</td>\n",
              "      <td>2014-04-22 03:53:30</td>\n",
              "      <td>1</td>\n",
              "      <td>2014-04-22 03:53:30</td>\n",
              "      <td>17</td>\n",
              "      <td>2014</td>\n",
              "      <td>4</td>\n",
              "    </tr>\n",
              "    <tr>\n",
              "      <th>1</th>\n",
              "      <td>2</td>\n",
              "      <td>2013-11-15 03:45:04</td>\n",
              "      <td>Poole Matthew</td>\n",
              "      <td>MatthewPoole@gustr.com</td>\n",
              "      <td>ORG_INVITE</td>\n",
              "      <td>1.396238e+09</td>\n",
              "      <td>0</td>\n",
              "      <td>0</td>\n",
              "      <td>1</td>\n",
              "      <td>316.0</td>\n",
              "      <td>2013-11-15 03:45:04</td>\n",
              "      <td>1</td>\n",
              "      <td>2013-11-15 03:45:04</td>\n",
              "      <td>46</td>\n",
              "      <td>2013</td>\n",
              "      <td>11</td>\n",
              "    </tr>\n",
              "    <tr>\n",
              "      <th>2</th>\n",
              "      <td>2</td>\n",
              "      <td>2013-11-15 03:45:04</td>\n",
              "      <td>Poole Matthew</td>\n",
              "      <td>MatthewPoole@gustr.com</td>\n",
              "      <td>ORG_INVITE</td>\n",
              "      <td>1.396238e+09</td>\n",
              "      <td>0</td>\n",
              "      <td>0</td>\n",
              "      <td>1</td>\n",
              "      <td>316.0</td>\n",
              "      <td>2013-11-29 03:45:04</td>\n",
              "      <td>1</td>\n",
              "      <td>2013-11-29 03:45:04</td>\n",
              "      <td>48</td>\n",
              "      <td>2013</td>\n",
              "      <td>11</td>\n",
              "    </tr>\n",
              "  </tbody>\n",
              "</table>\n",
              "</div>\n",
              "      <button class=\"colab-df-convert\" onclick=\"convertToInteractive('df-b514d93c-e910-44c7-b0c0-ae8980f5ede8')\"\n",
              "              title=\"Convert this dataframe to an interactive table.\"\n",
              "              style=\"display:none;\">\n",
              "        \n",
              "  <svg xmlns=\"http://www.w3.org/2000/svg\" height=\"24px\"viewBox=\"0 0 24 24\"\n",
              "       width=\"24px\">\n",
              "    <path d=\"M0 0h24v24H0V0z\" fill=\"none\"/>\n",
              "    <path d=\"M18.56 5.44l.94 2.06.94-2.06 2.06-.94-2.06-.94-.94-2.06-.94 2.06-2.06.94zm-11 1L8.5 8.5l.94-2.06 2.06-.94-2.06-.94L8.5 2.5l-.94 2.06-2.06.94zm10 10l.94 2.06.94-2.06 2.06-.94-2.06-.94-.94-2.06-.94 2.06-2.06.94z\"/><path d=\"M17.41 7.96l-1.37-1.37c-.4-.4-.92-.59-1.43-.59-.52 0-1.04.2-1.43.59L10.3 9.45l-7.72 7.72c-.78.78-.78 2.05 0 2.83L4 21.41c.39.39.9.59 1.41.59.51 0 1.02-.2 1.41-.59l7.78-7.78 2.81-2.81c.8-.78.8-2.07 0-2.86zM5.41 20L4 18.59l7.72-7.72 1.47 1.35L5.41 20z\"/>\n",
              "  </svg>\n",
              "      </button>\n",
              "      \n",
              "  <style>\n",
              "    .colab-df-container {\n",
              "      display:flex;\n",
              "      flex-wrap:wrap;\n",
              "      gap: 12px;\n",
              "    }\n",
              "\n",
              "    .colab-df-convert {\n",
              "      background-color: #E8F0FE;\n",
              "      border: none;\n",
              "      border-radius: 50%;\n",
              "      cursor: pointer;\n",
              "      display: none;\n",
              "      fill: #1967D2;\n",
              "      height: 32px;\n",
              "      padding: 0 0 0 0;\n",
              "      width: 32px;\n",
              "    }\n",
              "\n",
              "    .colab-df-convert:hover {\n",
              "      background-color: #E2EBFA;\n",
              "      box-shadow: 0px 1px 2px rgba(60, 64, 67, 0.3), 0px 1px 3px 1px rgba(60, 64, 67, 0.15);\n",
              "      fill: #174EA6;\n",
              "    }\n",
              "\n",
              "    [theme=dark] .colab-df-convert {\n",
              "      background-color: #3B4455;\n",
              "      fill: #D2E3FC;\n",
              "    }\n",
              "\n",
              "    [theme=dark] .colab-df-convert:hover {\n",
              "      background-color: #434B5C;\n",
              "      box-shadow: 0px 1px 3px 1px rgba(0, 0, 0, 0.15);\n",
              "      filter: drop-shadow(0px 1px 2px rgba(0, 0, 0, 0.3));\n",
              "      fill: #FFFFFF;\n",
              "    }\n",
              "  </style>\n",
              "\n",
              "      <script>\n",
              "        const buttonEl =\n",
              "          document.querySelector('#df-b514d93c-e910-44c7-b0c0-ae8980f5ede8 button.colab-df-convert');\n",
              "        buttonEl.style.display =\n",
              "          google.colab.kernel.accessAllowed ? 'block' : 'none';\n",
              "\n",
              "        async function convertToInteractive(key) {\n",
              "          const element = document.querySelector('#df-b514d93c-e910-44c7-b0c0-ae8980f5ede8');\n",
              "          const dataTable =\n",
              "            await google.colab.kernel.invokeFunction('convertToInteractive',\n",
              "                                                     [key], {});\n",
              "          if (!dataTable) return;\n",
              "\n",
              "          const docLinkHtml = 'Like what you see? Visit the ' +\n",
              "            '<a target=\"_blank\" href=https://colab.research.google.com/notebooks/data_table.ipynb>data table notebook</a>'\n",
              "            + ' to learn more about interactive tables.';\n",
              "          element.innerHTML = '';\n",
              "          dataTable['output_type'] = 'display_data';\n",
              "          await google.colab.output.renderOutput(dataTable, element);\n",
              "          const docLink = document.createElement('div');\n",
              "          docLink.innerHTML = docLinkHtml;\n",
              "          element.appendChild(docLink);\n",
              "        }\n",
              "      </script>\n",
              "    </div>\n",
              "  </div>\n",
              "  "
            ]
          },
          "metadata": {},
          "execution_count": 10
        }
      ]
    },
    {
      "cell_type": "code",
      "source": [
        "groupby_week = data.groupby(['user_id','week','month','year'])['visited'].count().reset_index()\n",
        "groupby_week.head()"
      ],
      "metadata": {
        "colab": {
          "base_uri": "https://localhost:8080/",
          "height": 206
        },
        "id": "KHFZgCJXi1y4",
        "outputId": "e7f38583-1eae-437c-ec55-a98c2328578d"
      },
      "execution_count": 11,
      "outputs": [
        {
          "output_type": "execute_result",
          "data": {
            "text/plain": [
              "   user_id  week  month  year  visited\n",
              "0        1    17      4  2014        1\n",
              "1        2     1     12  2014        1\n",
              "2        2     2      1  2014        1\n",
              "3        2     6      2  2014        3\n",
              "4        2     7      2  2014        2"
            ],
            "text/html": [
              "\n",
              "  <div id=\"df-564e1606-9472-4ca4-9193-fa8c60f13c89\">\n",
              "    <div class=\"colab-df-container\">\n",
              "      <div>\n",
              "<style scoped>\n",
              "    .dataframe tbody tr th:only-of-type {\n",
              "        vertical-align: middle;\n",
              "    }\n",
              "\n",
              "    .dataframe tbody tr th {\n",
              "        vertical-align: top;\n",
              "    }\n",
              "\n",
              "    .dataframe thead th {\n",
              "        text-align: right;\n",
              "    }\n",
              "</style>\n",
              "<table border=\"1\" class=\"dataframe\">\n",
              "  <thead>\n",
              "    <tr style=\"text-align: right;\">\n",
              "      <th></th>\n",
              "      <th>user_id</th>\n",
              "      <th>week</th>\n",
              "      <th>month</th>\n",
              "      <th>year</th>\n",
              "      <th>visited</th>\n",
              "    </tr>\n",
              "  </thead>\n",
              "  <tbody>\n",
              "    <tr>\n",
              "      <th>0</th>\n",
              "      <td>1</td>\n",
              "      <td>17</td>\n",
              "      <td>4</td>\n",
              "      <td>2014</td>\n",
              "      <td>1</td>\n",
              "    </tr>\n",
              "    <tr>\n",
              "      <th>1</th>\n",
              "      <td>2</td>\n",
              "      <td>1</td>\n",
              "      <td>12</td>\n",
              "      <td>2014</td>\n",
              "      <td>1</td>\n",
              "    </tr>\n",
              "    <tr>\n",
              "      <th>2</th>\n",
              "      <td>2</td>\n",
              "      <td>2</td>\n",
              "      <td>1</td>\n",
              "      <td>2014</td>\n",
              "      <td>1</td>\n",
              "    </tr>\n",
              "    <tr>\n",
              "      <th>3</th>\n",
              "      <td>2</td>\n",
              "      <td>6</td>\n",
              "      <td>2</td>\n",
              "      <td>2014</td>\n",
              "      <td>3</td>\n",
              "    </tr>\n",
              "    <tr>\n",
              "      <th>4</th>\n",
              "      <td>2</td>\n",
              "      <td>7</td>\n",
              "      <td>2</td>\n",
              "      <td>2014</td>\n",
              "      <td>2</td>\n",
              "    </tr>\n",
              "  </tbody>\n",
              "</table>\n",
              "</div>\n",
              "      <button class=\"colab-df-convert\" onclick=\"convertToInteractive('df-564e1606-9472-4ca4-9193-fa8c60f13c89')\"\n",
              "              title=\"Convert this dataframe to an interactive table.\"\n",
              "              style=\"display:none;\">\n",
              "        \n",
              "  <svg xmlns=\"http://www.w3.org/2000/svg\" height=\"24px\"viewBox=\"0 0 24 24\"\n",
              "       width=\"24px\">\n",
              "    <path d=\"M0 0h24v24H0V0z\" fill=\"none\"/>\n",
              "    <path d=\"M18.56 5.44l.94 2.06.94-2.06 2.06-.94-2.06-.94-.94-2.06-.94 2.06-2.06.94zm-11 1L8.5 8.5l.94-2.06 2.06-.94-2.06-.94L8.5 2.5l-.94 2.06-2.06.94zm10 10l.94 2.06.94-2.06 2.06-.94-2.06-.94-.94-2.06-.94 2.06-2.06.94z\"/><path d=\"M17.41 7.96l-1.37-1.37c-.4-.4-.92-.59-1.43-.59-.52 0-1.04.2-1.43.59L10.3 9.45l-7.72 7.72c-.78.78-.78 2.05 0 2.83L4 21.41c.39.39.9.59 1.41.59.51 0 1.02-.2 1.41-.59l7.78-7.78 2.81-2.81c.8-.78.8-2.07 0-2.86zM5.41 20L4 18.59l7.72-7.72 1.47 1.35L5.41 20z\"/>\n",
              "  </svg>\n",
              "      </button>\n",
              "      \n",
              "  <style>\n",
              "    .colab-df-container {\n",
              "      display:flex;\n",
              "      flex-wrap:wrap;\n",
              "      gap: 12px;\n",
              "    }\n",
              "\n",
              "    .colab-df-convert {\n",
              "      background-color: #E8F0FE;\n",
              "      border: none;\n",
              "      border-radius: 50%;\n",
              "      cursor: pointer;\n",
              "      display: none;\n",
              "      fill: #1967D2;\n",
              "      height: 32px;\n",
              "      padding: 0 0 0 0;\n",
              "      width: 32px;\n",
              "    }\n",
              "\n",
              "    .colab-df-convert:hover {\n",
              "      background-color: #E2EBFA;\n",
              "      box-shadow: 0px 1px 2px rgba(60, 64, 67, 0.3), 0px 1px 3px 1px rgba(60, 64, 67, 0.15);\n",
              "      fill: #174EA6;\n",
              "    }\n",
              "\n",
              "    [theme=dark] .colab-df-convert {\n",
              "      background-color: #3B4455;\n",
              "      fill: #D2E3FC;\n",
              "    }\n",
              "\n",
              "    [theme=dark] .colab-df-convert:hover {\n",
              "      background-color: #434B5C;\n",
              "      box-shadow: 0px 1px 3px 1px rgba(0, 0, 0, 0.15);\n",
              "      filter: drop-shadow(0px 1px 2px rgba(0, 0, 0, 0.3));\n",
              "      fill: #FFFFFF;\n",
              "    }\n",
              "  </style>\n",
              "\n",
              "      <script>\n",
              "        const buttonEl =\n",
              "          document.querySelector('#df-564e1606-9472-4ca4-9193-fa8c60f13c89 button.colab-df-convert');\n",
              "        buttonEl.style.display =\n",
              "          google.colab.kernel.accessAllowed ? 'block' : 'none';\n",
              "\n",
              "        async function convertToInteractive(key) {\n",
              "          const element = document.querySelector('#df-564e1606-9472-4ca4-9193-fa8c60f13c89');\n",
              "          const dataTable =\n",
              "            await google.colab.kernel.invokeFunction('convertToInteractive',\n",
              "                                                     [key], {});\n",
              "          if (!dataTable) return;\n",
              "\n",
              "          const docLinkHtml = 'Like what you see? Visit the ' +\n",
              "            '<a target=\"_blank\" href=https://colab.research.google.com/notebooks/data_table.ipynb>data table notebook</a>'\n",
              "            + ' to learn more about interactive tables.';\n",
              "          element.innerHTML = '';\n",
              "          dataTable['output_type'] = 'display_data';\n",
              "          await google.colab.output.renderOutput(dataTable, element);\n",
              "          const docLink = document.createElement('div');\n",
              "          docLink.innerHTML = docLinkHtml;\n",
              "          element.appendChild(docLink);\n",
              "        }\n",
              "      </script>\n",
              "    </div>\n",
              "  </div>\n",
              "  "
            ]
          },
          "metadata": {},
          "execution_count": 11
        }
      ]
    },
    {
      "cell_type": "code",
      "source": [
        "adopted_user = groupby_week.loc[groupby_week['visited'] >=3]\n",
        "len(adopted_user)"
      ],
      "metadata": {
        "colab": {
          "base_uri": "https://localhost:8080/"
        },
        "id": "F79rEjwoi1vE",
        "outputId": "df28a2c6-bf40-40ed-eae0-0266b7a0aa06"
      },
      "execution_count": 12,
      "outputs": [
        {
          "output_type": "execute_result",
          "data": {
            "text/plain": [
              "32754"
            ]
          },
          "metadata": {},
          "execution_count": 12
        }
      ]
    },
    {
      "cell_type": "code",
      "source": [
        "groupby_week['adopted_user'] = groupby_week['visited'].apply(lambda x: 1 if x >= 3 else 0)\n",
        "groupby_week.head()\n",
        "     "
      ],
      "metadata": {
        "colab": {
          "base_uri": "https://localhost:8080/",
          "height": 206
        },
        "id": "9nMFic0Ri1sG",
        "outputId": "a57a66b2-6c4e-4925-a718-763658d135f5"
      },
      "execution_count": 13,
      "outputs": [
        {
          "output_type": "execute_result",
          "data": {
            "text/plain": [
              "   user_id  week  month  year  visited  adopted_user\n",
              "0        1    17      4  2014        1             0\n",
              "1        2     1     12  2014        1             0\n",
              "2        2     2      1  2014        1             0\n",
              "3        2     6      2  2014        3             1\n",
              "4        2     7      2  2014        2             0"
            ],
            "text/html": [
              "\n",
              "  <div id=\"df-8d8be69c-2701-4f2c-bd9f-e78e32afadad\">\n",
              "    <div class=\"colab-df-container\">\n",
              "      <div>\n",
              "<style scoped>\n",
              "    .dataframe tbody tr th:only-of-type {\n",
              "        vertical-align: middle;\n",
              "    }\n",
              "\n",
              "    .dataframe tbody tr th {\n",
              "        vertical-align: top;\n",
              "    }\n",
              "\n",
              "    .dataframe thead th {\n",
              "        text-align: right;\n",
              "    }\n",
              "</style>\n",
              "<table border=\"1\" class=\"dataframe\">\n",
              "  <thead>\n",
              "    <tr style=\"text-align: right;\">\n",
              "      <th></th>\n",
              "      <th>user_id</th>\n",
              "      <th>week</th>\n",
              "      <th>month</th>\n",
              "      <th>year</th>\n",
              "      <th>visited</th>\n",
              "      <th>adopted_user</th>\n",
              "    </tr>\n",
              "  </thead>\n",
              "  <tbody>\n",
              "    <tr>\n",
              "      <th>0</th>\n",
              "      <td>1</td>\n",
              "      <td>17</td>\n",
              "      <td>4</td>\n",
              "      <td>2014</td>\n",
              "      <td>1</td>\n",
              "      <td>0</td>\n",
              "    </tr>\n",
              "    <tr>\n",
              "      <th>1</th>\n",
              "      <td>2</td>\n",
              "      <td>1</td>\n",
              "      <td>12</td>\n",
              "      <td>2014</td>\n",
              "      <td>1</td>\n",
              "      <td>0</td>\n",
              "    </tr>\n",
              "    <tr>\n",
              "      <th>2</th>\n",
              "      <td>2</td>\n",
              "      <td>2</td>\n",
              "      <td>1</td>\n",
              "      <td>2014</td>\n",
              "      <td>1</td>\n",
              "      <td>0</td>\n",
              "    </tr>\n",
              "    <tr>\n",
              "      <th>3</th>\n",
              "      <td>2</td>\n",
              "      <td>6</td>\n",
              "      <td>2</td>\n",
              "      <td>2014</td>\n",
              "      <td>3</td>\n",
              "      <td>1</td>\n",
              "    </tr>\n",
              "    <tr>\n",
              "      <th>4</th>\n",
              "      <td>2</td>\n",
              "      <td>7</td>\n",
              "      <td>2</td>\n",
              "      <td>2014</td>\n",
              "      <td>2</td>\n",
              "      <td>0</td>\n",
              "    </tr>\n",
              "  </tbody>\n",
              "</table>\n",
              "</div>\n",
              "      <button class=\"colab-df-convert\" onclick=\"convertToInteractive('df-8d8be69c-2701-4f2c-bd9f-e78e32afadad')\"\n",
              "              title=\"Convert this dataframe to an interactive table.\"\n",
              "              style=\"display:none;\">\n",
              "        \n",
              "  <svg xmlns=\"http://www.w3.org/2000/svg\" height=\"24px\"viewBox=\"0 0 24 24\"\n",
              "       width=\"24px\">\n",
              "    <path d=\"M0 0h24v24H0V0z\" fill=\"none\"/>\n",
              "    <path d=\"M18.56 5.44l.94 2.06.94-2.06 2.06-.94-2.06-.94-.94-2.06-.94 2.06-2.06.94zm-11 1L8.5 8.5l.94-2.06 2.06-.94-2.06-.94L8.5 2.5l-.94 2.06-2.06.94zm10 10l.94 2.06.94-2.06 2.06-.94-2.06-.94-.94-2.06-.94 2.06-2.06.94z\"/><path d=\"M17.41 7.96l-1.37-1.37c-.4-.4-.92-.59-1.43-.59-.52 0-1.04.2-1.43.59L10.3 9.45l-7.72 7.72c-.78.78-.78 2.05 0 2.83L4 21.41c.39.39.9.59 1.41.59.51 0 1.02-.2 1.41-.59l7.78-7.78 2.81-2.81c.8-.78.8-2.07 0-2.86zM5.41 20L4 18.59l7.72-7.72 1.47 1.35L5.41 20z\"/>\n",
              "  </svg>\n",
              "      </button>\n",
              "      \n",
              "  <style>\n",
              "    .colab-df-container {\n",
              "      display:flex;\n",
              "      flex-wrap:wrap;\n",
              "      gap: 12px;\n",
              "    }\n",
              "\n",
              "    .colab-df-convert {\n",
              "      background-color: #E8F0FE;\n",
              "      border: none;\n",
              "      border-radius: 50%;\n",
              "      cursor: pointer;\n",
              "      display: none;\n",
              "      fill: #1967D2;\n",
              "      height: 32px;\n",
              "      padding: 0 0 0 0;\n",
              "      width: 32px;\n",
              "    }\n",
              "\n",
              "    .colab-df-convert:hover {\n",
              "      background-color: #E2EBFA;\n",
              "      box-shadow: 0px 1px 2px rgba(60, 64, 67, 0.3), 0px 1px 3px 1px rgba(60, 64, 67, 0.15);\n",
              "      fill: #174EA6;\n",
              "    }\n",
              "\n",
              "    [theme=dark] .colab-df-convert {\n",
              "      background-color: #3B4455;\n",
              "      fill: #D2E3FC;\n",
              "    }\n",
              "\n",
              "    [theme=dark] .colab-df-convert:hover {\n",
              "      background-color: #434B5C;\n",
              "      box-shadow: 0px 1px 3px 1px rgba(0, 0, 0, 0.15);\n",
              "      filter: drop-shadow(0px 1px 2px rgba(0, 0, 0, 0.3));\n",
              "      fill: #FFFFFF;\n",
              "    }\n",
              "  </style>\n",
              "\n",
              "      <script>\n",
              "        const buttonEl =\n",
              "          document.querySelector('#df-8d8be69c-2701-4f2c-bd9f-e78e32afadad button.colab-df-convert');\n",
              "        buttonEl.style.display =\n",
              "          google.colab.kernel.accessAllowed ? 'block' : 'none';\n",
              "\n",
              "        async function convertToInteractive(key) {\n",
              "          const element = document.querySelector('#df-8d8be69c-2701-4f2c-bd9f-e78e32afadad');\n",
              "          const dataTable =\n",
              "            await google.colab.kernel.invokeFunction('convertToInteractive',\n",
              "                                                     [key], {});\n",
              "          if (!dataTable) return;\n",
              "\n",
              "          const docLinkHtml = 'Like what you see? Visit the ' +\n",
              "            '<a target=\"_blank\" href=https://colab.research.google.com/notebooks/data_table.ipynb>data table notebook</a>'\n",
              "            + ' to learn more about interactive tables.';\n",
              "          element.innerHTML = '';\n",
              "          dataTable['output_type'] = 'display_data';\n",
              "          await google.colab.output.renderOutput(dataTable, element);\n",
              "          const docLink = document.createElement('div');\n",
              "          docLink.innerHTML = docLinkHtml;\n",
              "          element.appendChild(docLink);\n",
              "        }\n",
              "      </script>\n",
              "    </div>\n",
              "  </div>\n",
              "  "
            ]
          },
          "metadata": {},
          "execution_count": 13
        }
      ]
    },
    {
      "cell_type": "code",
      "source": [
        "df3 = groupby_week[(groupby_week['visited']>=3)].value_counts()\n",
        "df3\n",
        "     "
      ],
      "metadata": {
        "colab": {
          "base_uri": "https://localhost:8080/"
        },
        "id": "uc1XppqQi1o-",
        "outputId": "c72317d3-152a-4aff-fc51-9fbf3a365758"
      },
      "execution_count": 14,
      "outputs": [
        {
          "output_type": "execute_result",
          "data": {
            "text/plain": [
              "user_id  week  month  year  visited  adopted_user\n",
              "2        6     2      2014  3        1               1\n",
              "7926     10    3      2014  7        1               1\n",
              "         19    5      2014  4        1               1\n",
              "                      2013  5        1               1\n",
              "         18    5      2014  4        1               1\n",
              "                                                    ..\n",
              "4022     1     1      2013  6        1               1\n",
              "4019     52    12     2013  7        1               1\n",
              "                      2012  6        1               1\n",
              "         51    12     2013  7        1               1\n",
              "11988    21    5      2014  5        1               1\n",
              "Length: 32754, dtype: int64"
            ]
          },
          "metadata": {},
          "execution_count": 14
        }
      ]
    },
    {
      "cell_type": "code",
      "source": [
        "data.columns"
      ],
      "metadata": {
        "colab": {
          "base_uri": "https://localhost:8080/"
        },
        "id": "31PPKbW-i1mR",
        "outputId": "8cf97fba-2320-4ffe-a9ad-5bba759a4a5d"
      },
      "execution_count": 15,
      "outputs": [
        {
          "output_type": "execute_result",
          "data": {
            "text/plain": [
              "Index(['user_id', 'creation_time', 'name', 'email', 'creation_source',\n",
              "       'last_session_creation_time', 'opted_in_to_mailing_list',\n",
              "       'enabled_for_marketing_drip', 'org_id', 'invited_by_user_id',\n",
              "       'time_stamp', 'visited', 'date', 'week', 'year', 'month'],\n",
              "      dtype='object')"
            ]
          },
          "metadata": {},
          "execution_count": 15
        }
      ]
    },
    {
      "cell_type": "code",
      "source": [
        "data.dtypes"
      ],
      "metadata": {
        "colab": {
          "base_uri": "https://localhost:8080/"
        },
        "id": "n3AypR5_i1jv",
        "outputId": "dd9fcdb2-1887-4329-e269-1773ed87bdc7"
      },
      "execution_count": 16,
      "outputs": [
        {
          "output_type": "execute_result",
          "data": {
            "text/plain": [
              "user_id                                int64\n",
              "creation_time                         object\n",
              "name                                  object\n",
              "email                                 object\n",
              "creation_source                       object\n",
              "last_session_creation_time           float64\n",
              "opted_in_to_mailing_list               int64\n",
              "enabled_for_marketing_drip             int64\n",
              "org_id                                 int64\n",
              "invited_by_user_id                   float64\n",
              "time_stamp                            object\n",
              "visited                                int64\n",
              "date                          datetime64[ns]\n",
              "week                                  UInt32\n",
              "year                                  UInt32\n",
              "month                                  int64\n",
              "dtype: object"
            ]
          },
          "metadata": {},
          "execution_count": 16
        }
      ]
    },
    {
      "cell_type": "code",
      "source": [
        "data[\"opted_in_to_mailing_list\"].value_counts()"
      ],
      "metadata": {
        "colab": {
          "base_uri": "https://localhost:8080/"
        },
        "id": "FUMEDIuQi1g_",
        "outputId": "aa1d0313-b28b-4ff0-e4a9-d4146d9581ab"
      },
      "execution_count": 17,
      "outputs": [
        {
          "output_type": "execute_result",
          "data": {
            "text/plain": [
              "0    154246\n",
              "1     53671\n",
              "Name: opted_in_to_mailing_list, dtype: int64"
            ]
          },
          "metadata": {},
          "execution_count": 17
        }
      ]
    },
    {
      "cell_type": "code",
      "source": [
        "data[\"creation_source\"].value_counts().plot(kind='pie',autopct='%1.2f%%',figsize=(10,6))"
      ],
      "metadata": {
        "colab": {
          "base_uri": "https://localhost:8080/",
          "height": 374
        },
        "id": "sr6-8TP3i1eG",
        "outputId": "f0163b12-56ce-4303-8120-54907dec1605"
      },
      "execution_count": 18,
      "outputs": [
        {
          "output_type": "execute_result",
          "data": {
            "text/plain": [
              "<AxesSubplot:ylabel='creation_source'>"
            ]
          },
          "metadata": {},
          "execution_count": 18
        },
        {
          "output_type": "display_data",
          "data": {
            "text/plain": [
              "<Figure size 720x432 with 1 Axes>"
            ],
            "image/png": "[encoded data removed]"
          },
          "metadata": {}
        }
      ]
    },
    {
      "cell_type": "markdown",
      "source": [
        "From the pie diagram, we can conclude that the org_invite feature is contributing the most i.e 33.17%"
      ],
      "metadata": {
        "id": "C5L4WqlLkbhe"
      }
    },
    {
      "cell_type": "markdown",
      "source": [
        "# Relation between categorical Columns"
      ],
      "metadata": {
        "id": "92f6yXrjkv3b"
      }
    },
    {
      "cell_type": "code",
      "source": [
        "import scipy.stats as stats\n",
        "c= pd.crosstab(data[\"creation_source\"],df1[\"opted_in_to_mailing_list\"])\n",
        "print(c)\n",
        "stats.chi2_contingency(c)\n",
        "c.plot(kind=\"bar\")\n",
        "plt.ylabel(\"opted_in_to_mailing_list\")"
      ],
      "metadata": {
        "colab": {
          "base_uri": "https://localhost:8080/",
          "height": 527
        },
        "id": "teUSg7fmi1aW",
        "outputId": "f15c0746-dc00-42a5-fc5f-9a39590f942f"
      },
      "execution_count": 19,
      "outputs": [
        {
          "output_type": "stream",
          "name": "stdout",
          "text": [
            "opted_in_to_mailing_list     0     1\n",
            "creation_source                     \n",
            "GUEST_INVITE              2742   875\n",
            "ORG_INVITE                3226  1115\n",
            "PERSONAL_PROJECTS          305    99\n",
            "SIGNUP                    1701   582\n",
            "SIGNUP_GOOGLE_AUTH        1032   323\n"
          ]
        },
        {
          "output_type": "execute_result",
          "data": {
            "text/plain": [
              "Text(0, 0.5, 'opted_in_to_mailing_list')"
            ]
          },
          "metadata": {},
          "execution_count": 19
        },
        {
          "output_type": "display_data",
          "data": {
            "text/plain": [
              "<Figure size 432x288 with 1 Axes>"
            ],
            "image/png": "[encoded data removed]"
          },
          "metadata": {
            "needs_background": "light"
          }
        }
      ]
    },
    {
      "cell_type": "markdown",
      "source": [
        "Majority opted into mailing list is from the Org_invite"
      ],
      "metadata": {
        "id": "fON3n1aKk8V5"
      }
    },
    {
      "cell_type": "code",
      "source": [
        "import scipy.stats as stats\n",
        "c= pd.crosstab(data[\"creation_source\"],df1[\"enabled_for_marketing_drip\"])\n",
        "print(c)\n",
        "stats.chi2_contingency(c)\n",
        "c.plot(kind=\"bar\")\n",
        "plt.ylabel(\"enabled_for_marketing_drip\")"
      ],
      "metadata": {
        "colab": {
          "base_uri": "https://localhost:8080/",
          "height": 527
        },
        "id": "NtKeWnrUi1X7",
        "outputId": "0ba10c28-e5a1-45b1-c245-4632319db7d3"
      },
      "execution_count": 20,
      "outputs": [
        {
          "output_type": "stream",
          "name": "stdout",
          "text": [
            "enabled_for_marketing_drip     0    1\n",
            "creation_source                      \n",
            "GUEST_INVITE                3079  538\n",
            "ORG_INVITE                  3675  666\n",
            "PERSONAL_PROJECTS            338   66\n",
            "SIGNUP                      1948  335\n",
            "SIGNUP_GOOGLE_AUTH          1168  187\n"
          ]
        },
        {
          "output_type": "execute_result",
          "data": {
            "text/plain": [
              "Text(0, 0.5, 'enabled_for_marketing_drip')"
            ]
          },
          "metadata": {},
          "execution_count": 20
        },
        {
          "output_type": "display_data",
          "data": {
            "text/plain": [
              "<Figure size 432x288 with 1 Axes>"
            ],
            "image/png": "[encoded data removed]"
          },
          "metadata": {
            "needs_background": "light"
          }
        }
      ]
    },
    {
      "cell_type": "markdown",
      "source": [
        "Enabled for marketing drip contributes lesser towards all categories than the opted n to mailing list"
      ],
      "metadata": {
        "id": "vMsd_796lPO7"
      }
    },
    {
      "cell_type": "code",
      "source": [
        "import scipy.stats as stats\n",
        "c= pd.crosstab(data[\"creation_source\"],groupby_week['adopted_user'])\n",
        "print(c)\n",
        "stats.chi2_contingency(c)\n",
        "c.plot(kind=\"bar\")\n",
        "plt.ylabel(\"adopted_user\")"
      ],
      "metadata": {
        "colab": {
          "base_uri": "https://localhost:8080/",
          "height": 527
        },
        "id": "x11apjrGkaBO",
        "outputId": "7340bac6-e4c5-4cc0-c590-bd0f95a59f65"
      },
      "execution_count": 21,
      "outputs": [
        {
          "output_type": "stream",
          "name": "stdout",
          "text": [
            "adopted_user            0      1\n",
            "creation_source                 \n",
            "GUEST_INVITE         9691   6797\n",
            "ORG_INVITE          14607  11421\n",
            "PERSONAL_PROJECTS    3679   2629\n",
            "SIGNUP               9286   7099\n",
            "SIGNUP_GOOGLE_AUTH   5916   4808\n"
          ]
        },
        {
          "output_type": "execute_result",
          "data": {
            "text/plain": [
              "Text(0, 0.5, 'adopted_user')"
            ]
          },
          "metadata": {},
          "execution_count": 21
        },
        {
          "output_type": "display_data",
          "data": {
            "text/plain": [
              "<Figure size 432x288 with 1 Axes>"
            ],
            "image/png": "[encoded data removed]"
          },
          "metadata": {
            "needs_background": "light"
          }
        }
      ]
    },
    {
      "cell_type": "markdown",
      "source": [
        "adopted and not adopeted are moreover equally distributed from all categories"
      ],
      "metadata": {
        "id": "t7vvWJndlwck"
      }
    },
    {
      "cell_type": "markdown",
      "source": [
        "Relation between Categorical and Continuous columns"
      ],
      "metadata": {
        "id": "GORlzQhRl-bG"
      }
    },
    {
      "cell_type": "code",
      "source": [
        "week_0=groupby_week[groupby_week['adopted_user']==0][\"week\"]\n",
        "week_1=groupby_week[groupby_week['adopted_user']==1][\"week\"]\n",
        "sns.boxplot(x='adopted_user',y=\"week\",data=groupby_week)\n",
        "plt.show()"
      ],
      "metadata": {
        "colab": {
          "base_uri": "https://localhost:8080/",
          "height": 280
        },
        "id": "NPkRbbAMkZ9v",
        "outputId": "b0872235-4a1a-405c-dd63-1a5cacf9e802"
      },
      "execution_count": 22,
      "outputs": [
        {
          "output_type": "display_data",
          "data": {
            "text/plain": [
              "<Figure size 432x288 with 1 Axes>"
            ],
            "image/png": "[encoded data removed]"
          },
          "metadata": {
            "needs_background": "light"
          }
        }
      ]
    },
    {
      "cell_type": "markdown",
      "source": [
        "Adopeted users mostly range from week 11 to week 38"
      ],
      "metadata": {
        "id": "-S78HGCVmKWD"
      }
    },
    {
      "cell_type": "code",
      "source": [
        "year_0=groupby_week[groupby_week['adopted_user']==0][\"year\"]\n",
        "year_1=groupby_week[groupby_week['adopted_user']==1][\"year\"]\n",
        "sns.boxplot(x='adopted_user',y=\"year\",data=groupby_week)\n",
        "plt.show()\n"
      ],
      "metadata": {
        "colab": {
          "base_uri": "https://localhost:8080/",
          "height": 280
        },
        "id": "7vcIWyMLkZ8N",
        "outputId": "5ef90240-23ad-4ac5-c7da-2bc33c829674"
      },
      "execution_count": 23,
      "outputs": [
        {
          "output_type": "display_data",
          "data": {
            "text/plain": [
              "<Figure size 432x288 with 1 Axes>"
            ],
            "image/png": "[encoded data removed]"
          },
          "metadata": {
            "needs_background": "light"
          }
        }
      ]
    },
    {
      "cell_type": "markdown",
      "source": [
        "Adopted users are between 2013 to 2014"
      ],
      "metadata": {
        "id": "POiDMG2jmR-p"
      }
    },
    {
      "cell_type": "code",
      "source": [
        "q = df3.groupby(['month']).size().values\n",
        "p = df3.groupby(['month']).size().index\n",
        "y = np.array(q)\n",
        "x = np.array(p)\n",
        "plt.pie(y, labels = x, autopct='%1.0f%%',shadow=True)\n",
        "plt.title(\"Monthly distribution of vists by adopted users in percentage\",fontsize=18)\n",
        "plt.show()"
      ],
      "metadata": {
        "colab": {
          "base_uri": "https://localhost:8080/",
          "height": 268
        },
        "id": "kM94TmSNkZ6X",
        "outputId": "4b3c3b36-fdcd-4a5f-8718-a0b73d5f02bf"
      },
      "execution_count": 32,
      "outputs": [
        {
          "output_type": "display_data",
          "data": {
            "text/plain": [
              "<Figure size 432x288 with 1 Axes>"
            ],
            "image/png": "[encoded data removed]"
          },
          "metadata": {}
        }
      ]
    },
    {
      "cell_type": "markdown",
      "source": [
        "The most adopted user is from the 5th month with 14%"
      ],
      "metadata": {
        "id": "gmEYrU-6mucn"
      }
    },
    {
      "cell_type": "code",
      "source": [
        "q = df3.groupby(['year']).size().values\n",
        "p = df3.groupby(['year']).size().index\n",
        "y = np.array(q)\n",
        "x = np.array(p)\n",
        "plt.pie(y, labels = x, autopct='%1.0f%%',shadow=True)\n",
        "plt.title(\"Yearly distribution of vists by adopted users in percentage\", fontsize=18)\n",
        "plt.show()"
      ],
      "metadata": {
        "colab": {
          "base_uri": "https://localhost:8080/",
          "height": 268
        },
        "id": "zUpAUJH-kZ4U",
        "outputId": "6f001ac6-ed44-4433-9241-736dbeff4b6a"
      },
      "execution_count": 30,
      "outputs": [
        {
          "output_type": "display_data",
          "data": {
            "text/plain": [
              "<Figure size 432x288 with 1 Axes>"
            ],
            "image/png": "[encoded data removed]"
          },
          "metadata": {}
        }
      ]
    },
    {
      "cell_type": "markdown",
      "source": [
        "the most adopted user is from the year 2013"
      ],
      "metadata": {
        "id": "r7l_OPZdnIDh"
      }
    },
    {
      "cell_type": "markdown",
      "source": [
        "No of Times visited based on week,month and year"
      ],
      "metadata": {
        "id": "7GQ0Q7jWnTG1"
      }
    },
    {
      "cell_type": "code",
      "source": [
        "sns.scatterplot(groupby_week['week'],groupby_week['month'],groupby_week['year'],groupby_week['visited'])\n",
        "plt.title(\"Number of times visited based on the week,month and year\",fontsize=18)\n",
        "     "
      ],
      "metadata": {
        "colab": {
          "base_uri": "https://localhost:8080/",
          "height": 316
        },
        "id": "natNO3_PkZ1A",
        "outputId": "f0d3def6-1293-4119-e32c-6e6890f01a51"
      },
      "execution_count": 31,
      "outputs": [
        {
          "output_type": "execute_result",
          "data": {
            "text/plain": [
              "Text(0.5, 1.0, 'Number of times visited based on the week,month and year')"
            ]
          },
          "metadata": {},
          "execution_count": 31
        },
        {
          "output_type": "display_data",
          "data": {
            "text/plain": [
              "<Figure size 432x288 with 1 Axes>"
            ],
            "image/png": "[encoded data removed]"
          },
          "metadata": {
            "needs_background": "light"
          }
        }
      ]
    },
    {
      "cell_type": "markdown",
      "source": [
        "From this we can conclude that most of the users visted in 2013 after 20 weeks time"
      ],
      "metadata": {
        "id": "GD1S_lPpnibk"
      }
    },
    {
      "cell_type": "markdown",
      "source": [
        "Adopted users based on year, month and week"
      ],
      "metadata": {
        "id": "_Hb5LK0noNR_"
      }
    },
    {
      "cell_type": "code",
      "source": [
        "sns.scatterplot(groupby_week['week'],groupby_week['month'],groupby_week['year'],groupby_week['adopted_user'])\n",
        "plt.title(\"Adopted users based on year, month and week\",fontsize=18)"
      ],
      "metadata": {
        "colab": {
          "base_uri": "https://localhost:8080/",
          "height": 316
        },
        "id": "tlk_z5TEkZy1",
        "outputId": "3fd27d5a-3aab-44a8-fa47-ad32c814ffe5"
      },
      "execution_count": 33,
      "outputs": [
        {
          "output_type": "execute_result",
          "data": {
            "text/plain": [
              "Text(0.5, 1.0, 'Adopted users based on year, month and week')"
            ]
          },
          "metadata": {},
          "execution_count": 33
        },
        {
          "output_type": "display_data",
          "data": {
            "text/plain": [
              "<Figure size 432x288 with 1 Axes>"
            ],
            "image/png": "[encoded data removed]"
          },
          "metadata": {
            "needs_background": "light"
          }
        }
      ]
    },
    {
      "cell_type": "markdown",
      "source": [
        "The adopted users are mostly from the year 2013 and from the months of 11 and 12"
      ],
      "metadata": {
        "id": "lWnOvQdOofEX"
      }
    }
  ]
}